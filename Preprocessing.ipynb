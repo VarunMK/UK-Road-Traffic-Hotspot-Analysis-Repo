{
  "nbformat": 4,
  "nbformat_minor": 0,
  "metadata": {
    "colab": {
      "provenance": []
    },
    "kernelspec": {
      "name": "python3",
      "display_name": "Python 3"
    },
    "language_info": {
      "name": "python"
    }
  },
  "cells": [
    {
      "cell_type": "code",
      "source": [
        "import pandas as pd\n",
        "import numpy as np\n",
        "from sklearn.model_selection import train_test_split\n",
        "from sklearn.preprocessing import StandardScaler\n",
        "from sklearn.decomposition import PCA\n",
        "import matplotlib.pyplot as plt\n",
        "from sklearn.preprocessing import LabelEncoder\n",
        "from sklearn.preprocessing import OrdinalEncoder\n",
        "from sklearn.feature_selection import SelectKBest\n",
        "from sklearn.feature_selection import chi2"
      ],
      "metadata": {
        "id": "O4xQAIzJreT9"
      },
      "execution_count": null,
      "outputs": []
    },
    {
      "cell_type": "code",
      "source": [
        "! pip install -q kaggle\n",
        "from google.colab import files\n",
        "\n",
        "files.upload()"
      ],
      "metadata": {
        "id": "KLr3G8jElHRr"
      },
      "execution_count": null,
      "outputs": []
    },
    {
      "cell_type": "code",
      "execution_count": null,
      "metadata": {
        "id": "h0Iap-wp4VWu"
      },
      "outputs": [],
      "source": [
        "! mkdir ~/.kaggle"
      ]
    },
    {
      "cell_type": "code",
      "execution_count": null,
      "metadata": {
        "id": "UKDiV_cS4Wrj"
      },
      "outputs": [],
      "source": [
        "! cp kaggle.json ~/.kaggle/"
      ]
    },
    {
      "cell_type": "code",
      "execution_count": null,
      "metadata": {
        "id": "1DrUIO_f4bMZ"
      },
      "outputs": [],
      "source": [
        "! chmod 600 ~/.kaggle/kaggle.json"
      ]
    },
    {
      "cell_type": "code",
      "execution_count": null,
      "metadata": {
        "colab": {
          "base_uri": "https://localhost:8080/"
        },
        "id": "LK6BUd_Q4eBT",
        "outputId": "0cc89540-52b0-479b-df24-2806b097baca"
      },
      "outputs": [
        {
          "output_type": "stream",
          "name": "stdout",
          "text": [
            "ref                                                            title                                                size  lastUpdated          downloadCount  voteCount  usabilityRating  \n",
            "-------------------------------------------------------------  --------------------------------------------------  -----  -------------------  -------------  ---------  ---------------  \n",
            "iamsouravbanerjee/world-population-dataset                     World Population Dataset                             17KB  2022-08-31 11:20:04           9024        273  1.0              \n",
            "thedevastator/mcdonalds-ice-cream-machines-broken-timeseries   McDonalds Ice Cream Machines Breaking - Timeseries  404KB  2022-09-14 23:51:09            812         35  1.0              \n",
            "pantanjali/unemployment-dataset                                Unemployment dataset                                 17KB  2022-09-08 08:26:10           2190         68  1.0              \n",
            "evangower/premier-league-match-data                            Premier League Match Data                             8KB  2022-09-14 18:40:58            527         38  1.0              \n",
            "ariyoomotade/netflix-data-cleaning-analysis-and-visualization  Netflix Data: Cleaning, Analysis and Visualization  270KB  2022-08-26 09:25:43           4612        111  1.0              \n",
            "whenamancodes/world-population-live-dataset                    World Population Live Dataset 2022                   10KB  2022-09-10 11:29:21            980         36  1.0              \n",
            "iamsouravbanerjee/house-rent-prediction-dataset                House Rent Prediction Dataset                        82KB  2022-08-20 13:49:03          13901        340  1.0              \n",
            "deepcontractor/smoke-detection-dataset                         Smoke Detection Dataset                               2MB  2022-08-21 06:29:34           2963         92  1.0              \n",
            "moazzimalibhatti/co2-emission-by-countries-year-wise-17502022  CO2 Emission by countries Year wise (1750-2022)     280KB  2022-09-14 07:43:00            641         42  1.0              \n",
            "wittmannf/top-250-imdb-series-episode-ratings                  Top 250 IMDB Series Episode Ratings in Sept 2022     92KB  2022-09-05 18:44:55            580         25  1.0              \n",
            "advaypatil/youtube-statistics                                  Youtube Statistics                                    2MB  2022-08-26 02:03:19           1927         61  1.0              \n",
            "muhammadadiltalay/imdb-video-games                             IMDB Video Games                                      1MB  2022-09-02 07:15:52           1099         36  0.9705882        \n",
            "kaggleashwin/population-dataset                                World Population by Countries Dataset (1960-2021)    69KB  2022-08-31 05:30:26           1815         77  1.0              \n",
            "csafrit2/latest-global-temperatures                            Latest Global Temperatures                           92KB  2022-09-05 01:10:12            737         28  1.0              \n",
            "surajjha101/fortune-top-1000-companies-by-revenue-2022         Fortune Top 1000 Companies by Revenue 2022           37KB  2022-08-28 06:43:27           1417         56  1.0              \n",
            "anuragbantu/ukraine-invasion-refugee-data-2022                 Ukraine Invasion Refugee data 2022                   19KB  2022-09-15 12:24:39            408         29  1.0              \n",
            "totoro29/air-pollution-level                                   Air Pollution Level                                 394KB  2022-09-09 04:36:03           1031         29  1.0              \n",
            "whenamancodes/data-science-fields-salary-categorization        Data Science Fields Salary Categorization             7KB  2022-09-10 07:53:45            524         29  1.0              \n",
            "fernandoretamales/health-expenditure-and-suicide-rates         Health Expenditure and Suicide Rates [2000-2019]     45KB  2022-09-06 17:37:21            459         26  1.0              \n",
            "sergylog/ab-test-data                                          A/B test data                                        28KB  2022-09-16 17:29:06            182         62  1.0              \n"
          ]
        }
      ],
      "source": [
        "! kaggle datasets list"
      ]
    },
    {
      "cell_type": "code",
      "execution_count": null,
      "metadata": {
        "colab": {
          "base_uri": "https://localhost:8080/"
        },
        "id": "MxQu_EzB5GBX",
        "outputId": "303d29b6-afa2-4217-f82b-45447d887bbc"
      },
      "outputs": [
        {
          "output_type": "stream",
          "name": "stdout",
          "text": [
            "Downloading uk-road-safety-accidents-and-vehicles.zip to /content\n",
            " 95% 135M/142M [00:01<00:00, 156MB/s]\n",
            "100% 142M/142M [00:01<00:00, 130MB/s]\n"
          ]
        }
      ],
      "source": [
        "!kaggle datasets download -d tsiaras/uk-road-safety-accidents-and-vehicles"
      ]
    },
    {
      "cell_type": "code",
      "execution_count": null,
      "metadata": {
        "colab": {
          "base_uri": "https://localhost:8080/"
        },
        "id": "CpGogg075K4l",
        "outputId": "001d892f-d4ef-4b4e-9c4e-5eca275c6610"
      },
      "outputs": [
        {
          "output_type": "stream",
          "name": "stdout",
          "text": [
            "Archive:  uk-road-safety-accidents-and-vehicles.zip\n",
            "  inflating: train/Accident_Information.csv  \n",
            "  inflating: train/Vehicle_Information.csv  \n"
          ]
        }
      ],
      "source": [
        "! mkdir train\n",
        "! unzip uk-road-safety-accidents-and-vehicles.zip -d train"
      ]
    },
    {
      "cell_type": "code",
      "execution_count": null,
      "metadata": {
        "colab": {
          "base_uri": "https://localhost:8080/"
        },
        "id": "4ZTbRPdmuGOy",
        "outputId": "ee2187c8-12b5-40ac-b01d-ae4a95d079d5"
      },
      "outputs": [
        {
          "output_type": "stream",
          "name": "stdout",
          "text": [
            "train/Accident_Information.csv\n",
            "train/Vehicle_Information.csv\n"
          ]
        }
      ],
      "source": [
        "import os\n",
        "for dirname, _, filenames in os.walk('train'):\n",
        "    for filename in filenames:\n",
        "        print(os.path.join(dirname, filename))\n"
      ]
    },
    {
      "cell_type": "code",
      "execution_count": null,
      "metadata": {
        "colab": {
          "base_uri": "https://localhost:8080/",
          "height": 421
        },
        "id": "D6QqOv3GDSPR",
        "outputId": "9d0073b3-57ba-414f-88cc-6cd0856e2279"
      },
      "outputs": [
        {
          "output_type": "stream",
          "name": "stderr",
          "text": [
            "/usr/local/lib/python3.7/dist-packages/IPython/core/interactiveshell.py:3326: DtypeWarning: Columns (0) have mixed types.Specify dtype option on import or set low_memory=False.\n",
            "  exec(code_obj, self.user_global_ns, self.user_ns)\n"
          ]
        },
        {
          "output_type": "execute_result",
          "data": {
            "text/plain": [
              "  Accident_Index 1st_Road_Class  1st_Road_Number 2nd_Road_Class  \\\n",
              "0  200501BS00001              A           3218.0            NaN   \n",
              "1  200501BS00002              B            450.0              C   \n",
              "2  200501BS00003              C              0.0            NaN   \n",
              "3  200501BS00004              A           3220.0            NaN   \n",
              "4  200501BS00005   Unclassified              0.0            NaN   \n",
              "\n",
              "   2nd_Road_Number Accident_Severity Carriageway_Hazards        Date  \\\n",
              "0              0.0           Serious                None  2005-01-04   \n",
              "1              0.0            Slight                None  2005-01-05   \n",
              "2              0.0            Slight                None  2005-01-06   \n",
              "3              0.0            Slight                None  2005-01-07   \n",
              "4              0.0            Slight                None  2005-01-10   \n",
              "\n",
              "  Day_of_Week  Did_Police_Officer_Attend_Scene_of_Accident  ...  \\\n",
              "0     Tuesday                                          1.0  ...   \n",
              "1   Wednesday                                          1.0  ...   \n",
              "2    Thursday                                          1.0  ...   \n",
              "3      Friday                                          1.0  ...   \n",
              "4      Monday                                          1.0  ...   \n",
              "\n",
              "          Police_Force Road_Surface_Conditions           Road_Type  \\\n",
              "0  Metropolitan Police             Wet or damp  Single carriageway   \n",
              "1  Metropolitan Police                     Dry    Dual carriageway   \n",
              "2  Metropolitan Police                     Dry  Single carriageway   \n",
              "3  Metropolitan Police                     Dry  Single carriageway   \n",
              "4  Metropolitan Police             Wet or damp  Single carriageway   \n",
              "\n",
              "  Special_Conditions_at_Site Speed_limit   Time  Urban_or_Rural_Area  \\\n",
              "0                       None        30.0  17:42                Urban   \n",
              "1                       None        30.0  17:36                Urban   \n",
              "2                       None        30.0  00:15                Urban   \n",
              "3                       None        30.0  10:35                Urban   \n",
              "4                       None        30.0  21:13                Urban   \n",
              "\n",
              "      Weather_Conditions  Year InScotland  \n",
              "0  Raining no high winds  2005         No  \n",
              "1     Fine no high winds  2005         No  \n",
              "2     Fine no high winds  2005         No  \n",
              "3     Fine no high winds  2005         No  \n",
              "4     Fine no high winds  2005         No  \n",
              "\n",
              "[5 rows x 34 columns]"
            ],
            "text/html": [
              "\n",
              "  <div id=\"df-34867a0f-f6e4-43bb-8fb5-4a9a5a9c2ae7\">\n",
              "    <div class=\"colab-df-container\">\n",
              "      <div>\n",
              "<style scoped>\n",
              "    .dataframe tbody tr th:only-of-type {\n",
              "        vertical-align: middle;\n",
              "    }\n",
              "\n",
              "    .dataframe tbody tr th {\n",
              "        vertical-align: top;\n",
              "    }\n",
              "\n",
              "    .dataframe thead th {\n",
              "        text-align: right;\n",
              "    }\n",
              "</style>\n",
              "<table border=\"1\" class=\"dataframe\">\n",
              "  <thead>\n",
              "    <tr style=\"text-align: right;\">\n",
              "      <th></th>\n",
              "      <th>Accident_Index</th>\n",
              "      <th>1st_Road_Class</th>\n",
              "      <th>1st_Road_Number</th>\n",
              "      <th>2nd_Road_Class</th>\n",
              "      <th>2nd_Road_Number</th>\n",
              "      <th>Accident_Severity</th>\n",
              "      <th>Carriageway_Hazards</th>\n",
              "      <th>Date</th>\n",
              "      <th>Day_of_Week</th>\n",
              "      <th>Did_Police_Officer_Attend_Scene_of_Accident</th>\n",
              "      <th>...</th>\n",
              "      <th>Police_Force</th>\n",
              "      <th>Road_Surface_Conditions</th>\n",
              "      <th>Road_Type</th>\n",
              "      <th>Special_Conditions_at_Site</th>\n",
              "      <th>Speed_limit</th>\n",
              "      <th>Time</th>\n",
              "      <th>Urban_or_Rural_Area</th>\n",
              "      <th>Weather_Conditions</th>\n",
              "      <th>Year</th>\n",
              "      <th>InScotland</th>\n",
              "    </tr>\n",
              "  </thead>\n",
              "  <tbody>\n",
              "    <tr>\n",
              "      <th>0</th>\n",
              "      <td>200501BS00001</td>\n",
              "      <td>A</td>\n",
              "      <td>3218.0</td>\n",
              "      <td>NaN</td>\n",
              "      <td>0.0</td>\n",
              "      <td>Serious</td>\n",
              "      <td>None</td>\n",
              "      <td>2005-01-04</td>\n",
              "      <td>Tuesday</td>\n",
              "      <td>1.0</td>\n",
              "      <td>...</td>\n",
              "      <td>Metropolitan Police</td>\n",
              "      <td>Wet or damp</td>\n",
              "      <td>Single carriageway</td>\n",
              "      <td>None</td>\n",
              "      <td>30.0</td>\n",
              "      <td>17:42</td>\n",
              "      <td>Urban</td>\n",
              "      <td>Raining no high winds</td>\n",
              "      <td>2005</td>\n",
              "      <td>No</td>\n",
              "    </tr>\n",
              "    <tr>\n",
              "      <th>1</th>\n",
              "      <td>200501BS00002</td>\n",
              "      <td>B</td>\n",
              "      <td>450.0</td>\n",
              "      <td>C</td>\n",
              "      <td>0.0</td>\n",
              "      <td>Slight</td>\n",
              "      <td>None</td>\n",
              "      <td>2005-01-05</td>\n",
              "      <td>Wednesday</td>\n",
              "      <td>1.0</td>\n",
              "      <td>...</td>\n",
              "      <td>Metropolitan Police</td>\n",
              "      <td>Dry</td>\n",
              "      <td>Dual carriageway</td>\n",
              "      <td>None</td>\n",
              "      <td>30.0</td>\n",
              "      <td>17:36</td>\n",
              "      <td>Urban</td>\n",
              "      <td>Fine no high winds</td>\n",
              "      <td>2005</td>\n",
              "      <td>No</td>\n",
              "    </tr>\n",
              "    <tr>\n",
              "      <th>2</th>\n",
              "      <td>200501BS00003</td>\n",
              "      <td>C</td>\n",
              "      <td>0.0</td>\n",
              "      <td>NaN</td>\n",
              "      <td>0.0</td>\n",
              "      <td>Slight</td>\n",
              "      <td>None</td>\n",
              "      <td>2005-01-06</td>\n",
              "      <td>Thursday</td>\n",
              "      <td>1.0</td>\n",
              "      <td>...</td>\n",
              "      <td>Metropolitan Police</td>\n",
              "      <td>Dry</td>\n",
              "      <td>Single carriageway</td>\n",
              "      <td>None</td>\n",
              "      <td>30.0</td>\n",
              "      <td>00:15</td>\n",
              "      <td>Urban</td>\n",
              "      <td>Fine no high winds</td>\n",
              "      <td>2005</td>\n",
              "      <td>No</td>\n",
              "    </tr>\n",
              "    <tr>\n",
              "      <th>3</th>\n",
              "      <td>200501BS00004</td>\n",
              "      <td>A</td>\n",
              "      <td>3220.0</td>\n",
              "      <td>NaN</td>\n",
              "      <td>0.0</td>\n",
              "      <td>Slight</td>\n",
              "      <td>None</td>\n",
              "      <td>2005-01-07</td>\n",
              "      <td>Friday</td>\n",
              "      <td>1.0</td>\n",
              "      <td>...</td>\n",
              "      <td>Metropolitan Police</td>\n",
              "      <td>Dry</td>\n",
              "      <td>Single carriageway</td>\n",
              "      <td>None</td>\n",
              "      <td>30.0</td>\n",
              "      <td>10:35</td>\n",
              "      <td>Urban</td>\n",
              "      <td>Fine no high winds</td>\n",
              "      <td>2005</td>\n",
              "      <td>No</td>\n",
              "    </tr>\n",
              "    <tr>\n",
              "      <th>4</th>\n",
              "      <td>200501BS00005</td>\n",
              "      <td>Unclassified</td>\n",
              "      <td>0.0</td>\n",
              "      <td>NaN</td>\n",
              "      <td>0.0</td>\n",
              "      <td>Slight</td>\n",
              "      <td>None</td>\n",
              "      <td>2005-01-10</td>\n",
              "      <td>Monday</td>\n",
              "      <td>1.0</td>\n",
              "      <td>...</td>\n",
              "      <td>Metropolitan Police</td>\n",
              "      <td>Wet or damp</td>\n",
              "      <td>Single carriageway</td>\n",
              "      <td>None</td>\n",
              "      <td>30.0</td>\n",
              "      <td>21:13</td>\n",
              "      <td>Urban</td>\n",
              "      <td>Fine no high winds</td>\n",
              "      <td>2005</td>\n",
              "      <td>No</td>\n",
              "    </tr>\n",
              "  </tbody>\n",
              "</table>\n",
              "<p>5 rows × 34 columns</p>\n",
              "</div>\n",
              "      <button class=\"colab-df-convert\" onclick=\"convertToInteractive('df-34867a0f-f6e4-43bb-8fb5-4a9a5a9c2ae7')\"\n",
              "              title=\"Convert this dataframe to an interactive table.\"\n",
              "              style=\"display:none;\">\n",
              "        \n",
              "  <svg xmlns=\"http://www.w3.org/2000/svg\" height=\"24px\"viewBox=\"0 0 24 24\"\n",
              "       width=\"24px\">\n",
              "    <path d=\"M0 0h24v24H0V0z\" fill=\"none\"/>\n",
              "    <path d=\"M18.56 5.44l.94 2.06.94-2.06 2.06-.94-2.06-.94-.94-2.06-.94 2.06-2.06.94zm-11 1L8.5 8.5l.94-2.06 2.06-.94-2.06-.94L8.5 2.5l-.94 2.06-2.06.94zm10 10l.94 2.06.94-2.06 2.06-.94-2.06-.94-.94-2.06-.94 2.06-2.06.94z\"/><path d=\"M17.41 7.96l-1.37-1.37c-.4-.4-.92-.59-1.43-.59-.52 0-1.04.2-1.43.59L10.3 9.45l-7.72 7.72c-.78.78-.78 2.05 0 2.83L4 21.41c.39.39.9.59 1.41.59.51 0 1.02-.2 1.41-.59l7.78-7.78 2.81-2.81c.8-.78.8-2.07 0-2.86zM5.41 20L4 18.59l7.72-7.72 1.47 1.35L5.41 20z\"/>\n",
              "  </svg>\n",
              "      </button>\n",
              "      \n",
              "  <style>\n",
              "    .colab-df-container {\n",
              "      display:flex;\n",
              "      flex-wrap:wrap;\n",
              "      gap: 12px;\n",
              "    }\n",
              "\n",
              "    .colab-df-convert {\n",
              "      background-color: #E8F0FE;\n",
              "      border: none;\n",
              "      border-radius: 50%;\n",
              "      cursor: pointer;\n",
              "      display: none;\n",
              "      fill: #1967D2;\n",
              "      height: 32px;\n",
              "      padding: 0 0 0 0;\n",
              "      width: 32px;\n",
              "    }\n",
              "\n",
              "    .colab-df-convert:hover {\n",
              "      background-color: #E2EBFA;\n",
              "      box-shadow: 0px 1px 2px rgba(60, 64, 67, 0.3), 0px 1px 3px 1px rgba(60, 64, 67, 0.15);\n",
              "      fill: #174EA6;\n",
              "    }\n",
              "\n",
              "    [theme=dark] .colab-df-convert {\n",
              "      background-color: #3B4455;\n",
              "      fill: #D2E3FC;\n",
              "    }\n",
              "\n",
              "    [theme=dark] .colab-df-convert:hover {\n",
              "      background-color: #434B5C;\n",
              "      box-shadow: 0px 1px 3px 1px rgba(0, 0, 0, 0.15);\n",
              "      filter: drop-shadow(0px 1px 2px rgba(0, 0, 0, 0.3));\n",
              "      fill: #FFFFFF;\n",
              "    }\n",
              "  </style>\n",
              "\n",
              "      <script>\n",
              "        const buttonEl =\n",
              "          document.querySelector('#df-34867a0f-f6e4-43bb-8fb5-4a9a5a9c2ae7 button.colab-df-convert');\n",
              "        buttonEl.style.display =\n",
              "          google.colab.kernel.accessAllowed ? 'block' : 'none';\n",
              "\n",
              "        async function convertToInteractive(key) {\n",
              "          const element = document.querySelector('#df-34867a0f-f6e4-43bb-8fb5-4a9a5a9c2ae7');\n",
              "          const dataTable =\n",
              "            await google.colab.kernel.invokeFunction('convertToInteractive',\n",
              "                                                     [key], {});\n",
              "          if (!dataTable) return;\n",
              "\n",
              "          const docLinkHtml = 'Like what you see? Visit the ' +\n",
              "            '<a target=\"_blank\" href=https://colab.research.google.com/notebooks/data_table.ipynb>data table notebook</a>'\n",
              "            + ' to learn more about interactive tables.';\n",
              "          element.innerHTML = '';\n",
              "          dataTable['output_type'] = 'display_data';\n",
              "          await google.colab.output.renderOutput(dataTable, element);\n",
              "          const docLink = document.createElement('div');\n",
              "          docLink.innerHTML = docLinkHtml;\n",
              "          element.appendChild(docLink);\n",
              "        }\n",
              "      </script>\n",
              "    </div>\n",
              "  </div>\n",
              "  "
            ]
          },
          "metadata": {},
          "execution_count": 10
        }
      ],
      "source": [
        "acc = pd.read_csv(\"train/Accident_Information.csv\")\n",
        "acc.head()"
      ]
    },
    {
      "cell_type": "code",
      "execution_count": null,
      "metadata": {
        "colab": {
          "base_uri": "https://localhost:8080/"
        },
        "id": "DPZC525MP7wT",
        "outputId": "f979046a-cb79-4160-bf42-2c47cec61523"
      },
      "outputs": [
        {
          "output_type": "execute_result",
          "data": {
            "text/plain": [
              "(2047256, 34)"
            ]
          },
          "metadata": {},
          "execution_count": 11
        }
      ],
      "source": [
        "veh = pd.read_csv(\"train/Vehicle_Information.csv\", encoding='ISO-8859-1')\n",
        "acc.shape"
      ]
    },
    {
      "cell_type": "code",
      "execution_count": null,
      "metadata": {
        "colab": {
          "base_uri": "https://localhost:8080/"
        },
        "id": "WNnQ7aBBlQK1",
        "outputId": "b06088a4-3687-4128-9d01-c2ab995d11d0"
      },
      "outputs": [
        {
          "output_type": "execute_result",
          "data": {
            "text/plain": [
              "Index(['Accident_Index', '1st_Road_Class', '1st_Road_Number', '2nd_Road_Class',\n",
              "       '2nd_Road_Number', 'Accident_Severity', 'Carriageway_Hazards', 'Date',\n",
              "       'Day_of_Week', 'Did_Police_Officer_Attend_Scene_of_Accident',\n",
              "       'Junction_Control', 'Junction_Detail', 'Latitude', 'Light_Conditions',\n",
              "       'Local_Authority_(District)', 'Local_Authority_(Highway)',\n",
              "       'Location_Easting_OSGR', 'Location_Northing_OSGR', 'Longitude',\n",
              "       'LSOA_of_Accident_Location', 'Number_of_Casualties',\n",
              "       'Number_of_Vehicles', 'Pedestrian_Crossing-Human_Control',\n",
              "       'Pedestrian_Crossing-Physical_Facilities', 'Police_Force',\n",
              "       'Road_Surface_Conditions', 'Road_Type', 'Special_Conditions_at_Site',\n",
              "       'Speed_limit', 'Time', 'Urban_or_Rural_Area', 'Weather_Conditions',\n",
              "       'Year_x', 'InScotland', 'Age_Band_of_Driver', 'Age_of_Vehicle',\n",
              "       'Driver_Home_Area_Type', 'Driver_IMD_Decile', 'Engine_Capacity_.CC.',\n",
              "       'Hit_Object_in_Carriageway', 'Hit_Object_off_Carriageway',\n",
              "       'Journey_Purpose_of_Driver', 'Junction_Location', 'make', 'model',\n",
              "       'Propulsion_Code', 'Sex_of_Driver', 'Skidding_and_Overturning',\n",
              "       'Towing_and_Articulation', 'Vehicle_Leaving_Carriageway',\n",
              "       'Vehicle_Location.Restricted_Lane', 'Vehicle_Manoeuvre',\n",
              "       'Vehicle_Reference', 'Vehicle_Type', 'Was_Vehicle_Left_Hand_Drive',\n",
              "       'X1st_Point_of_Impact', 'Year_y'],\n",
              "      dtype='object')"
            ]
          },
          "metadata": {},
          "execution_count": 12
        }
      ],
      "source": [
        "df = pd.merge(acc, veh, how = 'inner', on = 'Accident_Index' )\n",
        "df.columns"
      ]
    },
    {
      "cell_type": "code",
      "execution_count": null,
      "metadata": {
        "id": "k47ur4rNQR7S"
      },
      "outputs": [],
      "source": [
        "df1 = df[['1st_Road_Class', 'Junction_Detail', \"Accident_Index\", 'Accident_Severity', 'Carriageway_Hazards', 'Date',\n",
        "       'Day_of_Week','Latitude', 'Light_Conditions',  'Longitude',\n",
        "       'LSOA_of_Accident_Location', 'Number_of_Casualties',\n",
        "       'Number_of_Vehicles', \n",
        "       'Road_Surface_Conditions', 'Road_Type', 'Special_Conditions_at_Site',\n",
        "       'Speed_limit', 'Time', 'Urban_or_Rural_Area', 'Weather_Conditions',\n",
        "       'Year_x','Age_Band_of_Driver', 'Age_of_Vehicle', 'Engine_Capacity_.CC.', 'Skidding_and_Overturning',  'Vehicle_Type', 'Hit_Object_in_Carriageway', 'Hit_Object_off_Carriageway']]"
      ]
    },
    {
      "cell_type": "code",
      "execution_count": null,
      "metadata": {
        "colab": {
          "base_uri": "https://localhost:8080/"
        },
        "id": "_GBv7hiPkQnm",
        "outputId": "69e8b54f-d96e-4da9-cec1-2b394ae68eed"
      },
      "outputs": [
        {
          "output_type": "stream",
          "name": "stdout",
          "text": [
            "<class 'pandas.core.frame.DataFrame'>\n",
            "Int64Index: 2058408 entries, 0 to 2058407\n",
            "Data columns (total 28 columns):\n",
            " #   Column                      Dtype  \n",
            "---  ------                      -----  \n",
            " 0   1st_Road_Class              object \n",
            " 1   Junction_Detail             object \n",
            " 2   Accident_Index              object \n",
            " 3   Accident_Severity           object \n",
            " 4   Carriageway_Hazards         object \n",
            " 5   Date                        object \n",
            " 6   Day_of_Week                 object \n",
            " 7   Latitude                    float64\n",
            " 8   Light_Conditions            object \n",
            " 9   Longitude                   float64\n",
            " 10  LSOA_of_Accident_Location   object \n",
            " 11  Number_of_Casualties        int64  \n",
            " 12  Number_of_Vehicles          int64  \n",
            " 13  Road_Surface_Conditions     object \n",
            " 14  Road_Type                   object \n",
            " 15  Special_Conditions_at_Site  object \n",
            " 16  Speed_limit                 float64\n",
            " 17  Time                        object \n",
            " 18  Urban_or_Rural_Area         object \n",
            " 19  Weather_Conditions          object \n",
            " 20  Year_x                      int64  \n",
            " 21  Age_Band_of_Driver          object \n",
            " 22  Age_of_Vehicle              float64\n",
            " 23  Engine_Capacity_.CC.        float64\n",
            " 24  Skidding_and_Overturning    object \n",
            " 25  Vehicle_Type                object \n",
            " 26  Hit_Object_in_Carriageway   object \n",
            " 27  Hit_Object_off_Carriageway  object \n",
            "dtypes: float64(5), int64(3), object(20)\n",
            "memory usage: 455.4+ MB\n"
          ]
        }
      ],
      "source": [
        "df1.dropna()\n",
        "df1.info()"
      ]
    },
    {
      "cell_type": "markdown",
      "metadata": {
        "id": "ono_4-WseZ6H"
      },
      "source": [
        "### Models \n",
        "- Classifying attribute information according to severity \n",
        "- Predicting severity of a location using severity index"
      ]
    },
    {
      "cell_type": "markdown",
      "metadata": {
        "id": "io56EXITe-or"
      },
      "source": [
        "### Preprocessing"
      ]
    },
    {
      "cell_type": "code",
      "execution_count": null,
      "metadata": {
        "colab": {
          "base_uri": "https://localhost:8080/"
        },
        "id": "CESxdzefRaVS",
        "outputId": "cb1d7261-bcdf-4407-97c0-fe85511acd00"
      },
      "outputs": [
        {
          "output_type": "execute_result",
          "data": {
            "text/plain": [
              "1st_Road_Class                     0\n",
              "Junction_Detail                    0\n",
              "Accident_Index                     0\n",
              "Accident_Severity                  0\n",
              "Carriageway_Hazards                0\n",
              "Date                               0\n",
              "Day_of_Week                        0\n",
              "Latitude                         124\n",
              "Light_Conditions                   0\n",
              "Longitude                        125\n",
              "LSOA_of_Accident_Location     139207\n",
              "Number_of_Casualties               0\n",
              "Number_of_Vehicles                 0\n",
              "Road_Surface_Conditions            0\n",
              "Road_Type                          0\n",
              "Special_Conditions_at_Site         0\n",
              "Speed_limit                       65\n",
              "Time                             146\n",
              "Urban_or_Rural_Area                0\n",
              "Weather_Conditions                 0\n",
              "Year_x                             0\n",
              "Age_Band_of_Driver                 0\n",
              "Age_of_Vehicle                337962\n",
              "Engine_Capacity_.CC.          250317\n",
              "Skidding_and_Overturning           0\n",
              "Vehicle_Type                       0\n",
              "Hit_Object_in_Carriageway          0\n",
              "Hit_Object_off_Carriageway         0\n",
              "dtype: int64"
            ]
          },
          "metadata": {},
          "execution_count": 15
        }
      ],
      "source": [
        "df1.isnull().sum()"
      ]
    },
    {
      "cell_type": "code",
      "execution_count": null,
      "metadata": {
        "colab": {
          "base_uri": "https://localhost:8080/"
        },
        "id": "inFbylKeqkTy",
        "outputId": "babf291e-98d5-45c5-cd2c-dd197217f7a2"
      },
      "outputs": [
        {
          "output_type": "stream",
          "name": "stderr",
          "text": [
            "/usr/local/lib/python3.7/dist-packages/pandas/util/_decorators.py:311: SettingWithCopyWarning: \n",
            "A value is trying to be set on a copy of a slice from a DataFrame\n",
            "\n",
            "See the caveats in the documentation: https://pandas.pydata.org/pandas-docs/stable/user_guide/indexing.html#returning-a-view-versus-a-copy\n",
            "  return func(*args, **kwargs)\n"
          ]
        },
        {
          "output_type": "execute_result",
          "data": {
            "text/plain": [
              "(1588313, 28)"
            ]
          },
          "metadata": {},
          "execution_count": 16
        }
      ],
      "source": [
        "df1.dropna(how='any', inplace=True)\n",
        "df1.shape"
      ]
    },
    {
      "cell_type": "code",
      "execution_count": null,
      "metadata": {
        "colab": {
          "base_uri": "https://localhost:8080/"
        },
        "id": "4chGMT7DsIPX",
        "outputId": "eae44256-ca55-47c7-bc35-d7a1c52b088d"
      },
      "outputs": [
        {
          "output_type": "execute_result",
          "data": {
            "text/plain": [
              "1st_Road_Class                0\n",
              "Junction_Detail               0\n",
              "Accident_Index                0\n",
              "Accident_Severity             0\n",
              "Carriageway_Hazards           0\n",
              "Date                          0\n",
              "Day_of_Week                   0\n",
              "Latitude                      0\n",
              "Light_Conditions              0\n",
              "Longitude                     0\n",
              "LSOA_of_Accident_Location     0\n",
              "Number_of_Casualties          0\n",
              "Number_of_Vehicles            0\n",
              "Road_Surface_Conditions       0\n",
              "Road_Type                     0\n",
              "Special_Conditions_at_Site    0\n",
              "Speed_limit                   0\n",
              "Time                          0\n",
              "Urban_or_Rural_Area           0\n",
              "Weather_Conditions            0\n",
              "Year_x                        0\n",
              "Age_Band_of_Driver            0\n",
              "Age_of_Vehicle                0\n",
              "Engine_Capacity_.CC.          0\n",
              "Skidding_and_Overturning      0\n",
              "Vehicle_Type                  0\n",
              "Hit_Object_in_Carriageway     0\n",
              "Hit_Object_off_Carriageway    0\n",
              "dtype: int64"
            ]
          },
          "metadata": {},
          "execution_count": 17
        }
      ],
      "source": [
        "df1.isnull().sum()"
      ]
    },
    {
      "cell_type": "code",
      "execution_count": null,
      "metadata": {
        "id": "WJr-b7c4su4z"
      },
      "outputs": [],
      "source": [
        "df2 = df1[['Time', 'Day_of_Week', 'Light_Conditions', 'Number_of_Casualties', 'Number_of_Vehicles', 'Road_Surface_Conditions', 'Road_Type', \n",
        "          'Speed_limit', 'Urban_or_Rural_Area', 'Weather_Conditions', 'Age_of_Vehicle', 'Engine_Capacity_.CC.',\n",
        "          'Skidding_and_Overturning', 'Hit_Object_in_Carriageway','Hit_Object_off_Carriageway','Accident_Severity']]"
      ]
    },
    {
      "cell_type": "code",
      "execution_count": null,
      "metadata": {
        "colab": {
          "base_uri": "https://localhost:8080/"
        },
        "id": "7KJLD4213IG4",
        "outputId": "490b6b9a-b491-4ad8-a17b-50d4d5aeefda"
      },
      "outputs": [
        {
          "output_type": "stream",
          "name": "stdout",
          "text": [
            "<class 'pandas.core.frame.DataFrame'>\n",
            "Int64Index: 1588313 entries, 0 to 2043670\n",
            "Data columns (total 16 columns):\n",
            " #   Column                      Non-Null Count    Dtype  \n",
            "---  ------                      --------------    -----  \n",
            " 0   Time                        1588313 non-null  object \n",
            " 1   Day_of_Week                 1588313 non-null  object \n",
            " 2   Light_Conditions            1588313 non-null  object \n",
            " 3   Number_of_Casualties        1588313 non-null  int64  \n",
            " 4   Number_of_Vehicles          1588313 non-null  int64  \n",
            " 5   Road_Surface_Conditions     1588313 non-null  object \n",
            " 6   Road_Type                   1588313 non-null  object \n",
            " 7   Speed_limit                 1588313 non-null  float64\n",
            " 8   Urban_or_Rural_Area         1588313 non-null  object \n",
            " 9   Weather_Conditions          1588313 non-null  object \n",
            " 10  Age_of_Vehicle              1588313 non-null  float64\n",
            " 11  Engine_Capacity_.CC.        1588313 non-null  float64\n",
            " 12  Skidding_and_Overturning    1588313 non-null  object \n",
            " 13  Hit_Object_in_Carriageway   1588313 non-null  object \n",
            " 14  Hit_Object_off_Carriageway  1588313 non-null  object \n",
            " 15  Accident_Severity           1588313 non-null  object \n",
            "dtypes: float64(3), int64(2), object(11)\n",
            "memory usage: 206.0+ MB\n"
          ]
        }
      ],
      "source": [
        "df2.info()"
      ]
    },
    {
      "cell_type": "markdown",
      "metadata": {
        "id": "MFW_ZDenvdTi"
      },
      "source": [
        "Encoding categorical values to numerical values"
      ]
    },
    {
      "cell_type": "code",
      "execution_count": null,
      "metadata": {
        "colab": {
          "base_uri": "https://localhost:8080/"
        },
        "id": "TzHfHb2T5OUT",
        "outputId": "9157afd9-636a-48e2-a13e-d47e5d88b531"
      },
      "outputs": [
        {
          "output_type": "stream",
          "name": "stderr",
          "text": [
            "/usr/local/lib/python3.7/dist-packages/ipykernel_launcher.py:1: SettingWithCopyWarning: \n",
            "A value is trying to be set on a copy of a slice from a DataFrame.\n",
            "Try using .loc[row_indexer,col_indexer] = value instead\n",
            "\n",
            "See the caveats in the documentation: https://pandas.pydata.org/pandas-docs/stable/user_guide/indexing.html#returning-a-view-versus-a-copy\n",
            "  \"\"\"Entry point for launching an IPython kernel.\n"
          ]
        },
        {
          "output_type": "execute_result",
          "data": {
            "text/plain": [
              "0          4\n",
              "1          1\n",
              "2          2\n",
              "3          5\n",
              "4          3\n",
              "          ..\n",
              "2043662    3\n",
              "2043663    3\n",
              "2043665    2\n",
              "2043667    1\n",
              "2043670    4\n",
              "Name: Hrs_category, Length: 1588313, dtype: int64"
            ]
          },
          "metadata": {},
          "execution_count": 20
        }
      ],
      "source": [
        "df2['Hour']=df2['Time'].str[0:2]\n",
        "df2=df2.dropna(subset=['Hour'])\n",
        "df2['Hour']=pd.to_numeric(df2['Hour'])\n",
        "def converthrstocategory(hrs):\n",
        "    if(hrs<6):\n",
        "        return 1\n",
        "    elif(hrs>=6 and hrs<11):\n",
        "        return 2\n",
        "    elif(hrs>=11 and hrs<16):\n",
        "        return 3\n",
        "    elif(hrs>=16 and hrs<20):\n",
        "        return 4\n",
        "    elif(hrs>=20 and hrs<=23):\n",
        "        return 5\n",
        "df2['Hrs_category']=df2['Hour'].apply(converthrstocategory)\n",
        "df2['Hrs_category']"
      ]
    },
    {
      "cell_type": "code",
      "execution_count": null,
      "metadata": {
        "id": "3DHD9_5s8xgn"
      },
      "outputs": [],
      "source": [
        "df2.drop(['Time','Hour'], axis=1, inplace=True)"
      ]
    },
    {
      "cell_type": "code",
      "execution_count": null,
      "metadata": {
        "colab": {
          "base_uri": "https://localhost:8080/"
        },
        "id": "8J-JVwTS9SCw",
        "outputId": "ec2985d4-bcaa-44fd-f435-b61bf6bd92b6"
      },
      "outputs": [
        {
          "output_type": "stream",
          "name": "stdout",
          "text": [
            "<class 'pandas.core.frame.DataFrame'>\n",
            "Int64Index: 1588313 entries, 0 to 2043670\n",
            "Data columns (total 16 columns):\n",
            " #   Column                      Non-Null Count    Dtype  \n",
            "---  ------                      --------------    -----  \n",
            " 0   Day_of_Week                 1588313 non-null  object \n",
            " 1   Light_Conditions            1588313 non-null  object \n",
            " 2   Number_of_Casualties        1588313 non-null  int64  \n",
            " 3   Number_of_Vehicles          1588313 non-null  int64  \n",
            " 4   Road_Surface_Conditions     1588313 non-null  object \n",
            " 5   Road_Type                   1588313 non-null  object \n",
            " 6   Speed_limit                 1588313 non-null  float64\n",
            " 7   Urban_or_Rural_Area         1588313 non-null  object \n",
            " 8   Weather_Conditions          1588313 non-null  object \n",
            " 9   Age_of_Vehicle              1588313 non-null  float64\n",
            " 10  Engine_Capacity_.CC.        1588313 non-null  float64\n",
            " 11  Skidding_and_Overturning    1588313 non-null  object \n",
            " 12  Hit_Object_in_Carriageway   1588313 non-null  object \n",
            " 13  Hit_Object_off_Carriageway  1588313 non-null  object \n",
            " 14  Accident_Severity           1588313 non-null  object \n",
            " 15  Hrs_category                1588313 non-null  int64  \n",
            "dtypes: float64(3), int64(3), object(10)\n",
            "memory usage: 206.0+ MB\n"
          ]
        }
      ],
      "source": [
        "df2.info()"
      ]
    },
    {
      "cell_type": "code",
      "execution_count": null,
      "metadata": {
        "id": "soUdYfng3KR2"
      },
      "outputs": [],
      "source": [
        "for i in ['Day_of_Week', 'Light_Conditions', 'Road_Surface_Conditions', 'Road_Type', \n",
        "          'Urban_or_Rural_Area', 'Weather_Conditions', \n",
        "          'Skidding_and_Overturning', 'Hit_Object_in_Carriageway','Hit_Object_off_Carriageway']:\n",
        "          df2[i] = df2[i].astype('category')"
      ]
    },
    {
      "cell_type": "code",
      "execution_count": null,
      "metadata": {
        "colab": {
          "base_uri": "https://localhost:8080/"
        },
        "id": "DRTlC7WL9s0e",
        "outputId": "8c2a1e24-a756-454a-8620-87d530d64dd0"
      },
      "outputs": [
        {
          "output_type": "stream",
          "name": "stdout",
          "text": [
            "<class 'pandas.core.frame.DataFrame'>\n",
            "Int64Index: 1588313 entries, 0 to 2043670\n",
            "Data columns (total 16 columns):\n",
            " #   Column                      Non-Null Count    Dtype   \n",
            "---  ------                      --------------    -----   \n",
            " 0   Day_of_Week                 1588313 non-null  category\n",
            " 1   Light_Conditions            1588313 non-null  category\n",
            " 2   Number_of_Casualties        1588313 non-null  int64   \n",
            " 3   Number_of_Vehicles          1588313 non-null  int64   \n",
            " 4   Road_Surface_Conditions     1588313 non-null  category\n",
            " 5   Road_Type                   1588313 non-null  category\n",
            " 6   Speed_limit                 1588313 non-null  float64 \n",
            " 7   Urban_or_Rural_Area         1588313 non-null  category\n",
            " 8   Weather_Conditions          1588313 non-null  category\n",
            " 9   Age_of_Vehicle              1588313 non-null  float64 \n",
            " 10  Engine_Capacity_.CC.        1588313 non-null  float64 \n",
            " 11  Skidding_and_Overturning    1588313 non-null  category\n",
            " 12  Hit_Object_in_Carriageway   1588313 non-null  category\n",
            " 13  Hit_Object_off_Carriageway  1588313 non-null  category\n",
            " 14  Accident_Severity           1588313 non-null  object  \n",
            " 15  Hrs_category                1588313 non-null  int64   \n",
            "dtypes: category(9), float64(3), int64(3), object(1)\n",
            "memory usage: 110.6+ MB\n"
          ]
        }
      ],
      "source": [
        "df2.info()"
      ]
    },
    {
      "cell_type": "code",
      "execution_count": null,
      "metadata": {
        "id": "HFi-nVpM09gU"
      },
      "outputs": [],
      "source": [
        "df2['Accident_Severity'] = df2['Accident_Severity'].astype('category')"
      ]
    },
    {
      "cell_type": "code",
      "execution_count": null,
      "metadata": {
        "id": "6PsERNGG1K65"
      },
      "outputs": [],
      "source": [
        "df2 = df2[[c for c in df2 if c not in ['Accident_Severity']] \n",
        "       + ['Accident_Severity']]"
      ]
    },
    {
      "cell_type": "code",
      "execution_count": null,
      "metadata": {
        "id": "hZctmRFl16My"
      },
      "outputs": [],
      "source": [
        "y = df2['Accident_Severity']\n",
        "X = df2.iloc[:,:-1]"
      ]
    },
    {
      "cell_type": "code",
      "source": [
        "df2.to_csv(\"data.csv\")"
      ],
      "metadata": {
        "id": "BSMhTVxhhjV-"
      },
      "execution_count": null,
      "outputs": []
    },
    {
      "cell_type": "code",
      "source": [
        "oe = OrdinalEncoder()\n",
        "oe.fit(X)\n",
        "X = oe.transform(X)"
      ],
      "metadata": {
        "id": "DWeC6JfRvzkv"
      },
      "execution_count": null,
      "outputs": []
    },
    {
      "cell_type": "code",
      "source": [
        "X_train, X_test, y_train, y_test = train_test_split(X, y, test_size=0.3, random_state=1, stratify = y)"
      ],
      "metadata": {
        "id": "mRnJqjFMwVUU"
      },
      "execution_count": null,
      "outputs": []
    },
    {
      "cell_type": "code",
      "source": [
        "feat = SelectKBest(score_func=chi2, k='all')\n",
        "feat.fit(X_train, y_train)\n",
        "X_train = feat.transform(X_train)\n",
        "X_test = feat.transform(X_test)"
      ],
      "metadata": {
        "id": "zEx7WF74wVMa"
      },
      "execution_count": null,
      "outputs": []
    },
    {
      "cell_type": "markdown",
      "source": [
        "# SMOTE"
      ],
      "metadata": {
        "id": "vC2bIGlXtatN"
      }
    },
    {
      "cell_type": "code",
      "execution_count": null,
      "metadata": {
        "id": "Mq32VeP0Rv7V"
      },
      "outputs": [],
      "source": [
        "from imblearn.over_sampling import SMOTE\n"
      ]
    },
    {
      "cell_type": "code",
      "execution_count": null,
      "metadata": {
        "id": "s0rJnvteYr0a"
      },
      "outputs": [],
      "source": [
        "X_resampled, y_resampled = SMOTE().fit_resample(X, y)"
      ]
    },
    {
      "cell_type": "code",
      "execution_count": null,
      "metadata": {
        "colab": {
          "base_uri": "https://localhost:8080/"
        },
        "id": "iNxRqnBkY4Gy",
        "outputId": "fd6bc395-aa64-4753-e6ce-5b0ccfb2c32e"
      },
      "outputs": [
        {
          "output_type": "stream",
          "name": "stdout",
          "text": [
            "Before\n",
            "Slight     1368445\n",
            "Serious     199235\n",
            "Fatal        20633\n",
            "Name: Accident_Severity, dtype: int64\n",
            "After\n",
            "Fatal      1368445\n",
            "Serious    1368445\n",
            "Slight     1368445\n",
            "Name: Accident_Severity, dtype: int64\n"
          ]
        }
      ],
      "source": [
        "print(\"Before\")\n",
        "print(y.value_counts())\n",
        "print(\"After\")\n",
        "print(pd.Series(y_resampled).value_counts())"
      ]
    },
    {
      "cell_type": "code",
      "execution_count": null,
      "metadata": {
        "id": "vVpuGIyaZ6Vo"
      },
      "outputs": [],
      "source": [
        "Xs_train, Xs_test, ys_train, ys_test = train_test_split(X_resampled, y_resampled, test_size=0.3, random_state=1)\n"
      ]
    },
    {
      "cell_type": "code",
      "execution_count": null,
      "metadata": {
        "colab": {
          "base_uri": "https://localhost:8080/"
        },
        "id": "PHcn-wdjgbzp",
        "outputId": "fb24419b-6532-40dd-d787-72dff2c17380"
      },
      "outputs": [
        {
          "output_type": "execute_result",
          "data": {
            "text/plain": [
              "(2873734, 15)"
            ]
          },
          "metadata": {},
          "execution_count": 36
        }
      ],
      "source": [
        "Xs_train.shape"
      ]
    },
    {
      "cell_type": "code",
      "source": [
        "X_resampled = pd.DataFrame(X_resampled)\n",
        "y_resampled = pd.DataFrame(y_resampled)\n",
        "smote = pd.concat([X_resampled, y_resampled], axis=1, join='inner')\n",
        "smote.to_csv(\"smote_data.csv\")"
      ],
      "metadata": {
        "id": "VCF_KMUCw8Yl"
      },
      "execution_count": null,
      "outputs": []
    },
    {
      "cell_type": "code",
      "source": [
        "df2.head()"
      ],
      "metadata": {
        "id": "COy3URX411Qp",
        "outputId": "12099b04-b2d7-4351-f94d-c0d08ba7e30a",
        "colab": {
          "base_uri": "https://localhost:8080/",
          "height": 357
        }
      },
      "execution_count": null,
      "outputs": [
        {
          "output_type": "execute_result",
          "data": {
            "text/plain": [
              "  Day_of_Week             Light_Conditions  Number_of_Casualties  \\\n",
              "0   Wednesday        Darkness - lights lit                     1   \n",
              "1    Thursday        Darkness - lights lit                     1   \n",
              "2      Friday                     Daylight                     1   \n",
              "3      Monday  Darkness - lighting unknown                     1   \n",
              "4     Tuesday                     Daylight                     1   \n",
              "\n",
              "   Number_of_Vehicles Road_Surface_Conditions           Road_Type  \\\n",
              "0                   1                     Dry    Dual carriageway   \n",
              "1                   2                     Dry  Single carriageway   \n",
              "2                   1                     Dry  Single carriageway   \n",
              "3                   1             Wet or damp  Single carriageway   \n",
              "4                   2             Wet or damp  Single carriageway   \n",
              "\n",
              "   Speed_limit Urban_or_Rural_Area     Weather_Conditions  Age_of_Vehicle  \\\n",
              "0         30.0               Urban     Fine no high winds             3.0   \n",
              "1         30.0               Urban     Fine no high winds             5.0   \n",
              "2         30.0               Urban     Fine no high winds             4.0   \n",
              "3         30.0               Urban     Fine no high winds            10.0   \n",
              "4         30.0               Urban  Raining no high winds             1.0   \n",
              "\n",
              "   Engine_Capacity_.CC. Skidding_and_Overturning Hit_Object_in_Carriageway  \\\n",
              "0                8268.0                     None                      None   \n",
              "1                8300.0                     None            Parked vehicle   \n",
              "2                1769.0                     None                      None   \n",
              "3                  85.0                  Skidded                      Kerb   \n",
              "4                2976.0                     None                      None   \n",
              "\n",
              "  Hit_Object_off_Carriageway  Hrs_category Accident_Severity  \n",
              "0                       None             4            Slight  \n",
              "1                       None             1            Slight  \n",
              "2                       None             2            Slight  \n",
              "3                       None             5            Slight  \n",
              "4                       None             3            Slight  "
            ],
            "text/html": [
              "\n",
              "  <div id=\"df-649b0022-daef-4ede-8504-47d876978523\">\n",
              "    <div class=\"colab-df-container\">\n",
              "      <div>\n",
              "<style scoped>\n",
              "    .dataframe tbody tr th:only-of-type {\n",
              "        vertical-align: middle;\n",
              "    }\n",
              "\n",
              "    .dataframe tbody tr th {\n",
              "        vertical-align: top;\n",
              "    }\n",
              "\n",
              "    .dataframe thead th {\n",
              "        text-align: right;\n",
              "    }\n",
              "</style>\n",
              "<table border=\"1\" class=\"dataframe\">\n",
              "  <thead>\n",
              "    <tr style=\"text-align: right;\">\n",
              "      <th></th>\n",
              "      <th>Day_of_Week</th>\n",
              "      <th>Light_Conditions</th>\n",
              "      <th>Number_of_Casualties</th>\n",
              "      <th>Number_of_Vehicles</th>\n",
              "      <th>Road_Surface_Conditions</th>\n",
              "      <th>Road_Type</th>\n",
              "      <th>Speed_limit</th>\n",
              "      <th>Urban_or_Rural_Area</th>\n",
              "      <th>Weather_Conditions</th>\n",
              "      <th>Age_of_Vehicle</th>\n",
              "      <th>Engine_Capacity_.CC.</th>\n",
              "      <th>Skidding_and_Overturning</th>\n",
              "      <th>Hit_Object_in_Carriageway</th>\n",
              "      <th>Hit_Object_off_Carriageway</th>\n",
              "      <th>Hrs_category</th>\n",
              "      <th>Accident_Severity</th>\n",
              "    </tr>\n",
              "  </thead>\n",
              "  <tbody>\n",
              "    <tr>\n",
              "      <th>0</th>\n",
              "      <td>Wednesday</td>\n",
              "      <td>Darkness - lights lit</td>\n",
              "      <td>1</td>\n",
              "      <td>1</td>\n",
              "      <td>Dry</td>\n",
              "      <td>Dual carriageway</td>\n",
              "      <td>30.0</td>\n",
              "      <td>Urban</td>\n",
              "      <td>Fine no high winds</td>\n",
              "      <td>3.0</td>\n",
              "      <td>8268.0</td>\n",
              "      <td>None</td>\n",
              "      <td>None</td>\n",
              "      <td>None</td>\n",
              "      <td>4</td>\n",
              "      <td>Slight</td>\n",
              "    </tr>\n",
              "    <tr>\n",
              "      <th>1</th>\n",
              "      <td>Thursday</td>\n",
              "      <td>Darkness - lights lit</td>\n",
              "      <td>1</td>\n",
              "      <td>2</td>\n",
              "      <td>Dry</td>\n",
              "      <td>Single carriageway</td>\n",
              "      <td>30.0</td>\n",
              "      <td>Urban</td>\n",
              "      <td>Fine no high winds</td>\n",
              "      <td>5.0</td>\n",
              "      <td>8300.0</td>\n",
              "      <td>None</td>\n",
              "      <td>Parked vehicle</td>\n",
              "      <td>None</td>\n",
              "      <td>1</td>\n",
              "      <td>Slight</td>\n",
              "    </tr>\n",
              "    <tr>\n",
              "      <th>2</th>\n",
              "      <td>Friday</td>\n",
              "      <td>Daylight</td>\n",
              "      <td>1</td>\n",
              "      <td>1</td>\n",
              "      <td>Dry</td>\n",
              "      <td>Single carriageway</td>\n",
              "      <td>30.0</td>\n",
              "      <td>Urban</td>\n",
              "      <td>Fine no high winds</td>\n",
              "      <td>4.0</td>\n",
              "      <td>1769.0</td>\n",
              "      <td>None</td>\n",
              "      <td>None</td>\n",
              "      <td>None</td>\n",
              "      <td>2</td>\n",
              "      <td>Slight</td>\n",
              "    </tr>\n",
              "    <tr>\n",
              "      <th>3</th>\n",
              "      <td>Monday</td>\n",
              "      <td>Darkness - lighting unknown</td>\n",
              "      <td>1</td>\n",
              "      <td>1</td>\n",
              "      <td>Wet or damp</td>\n",
              "      <td>Single carriageway</td>\n",
              "      <td>30.0</td>\n",
              "      <td>Urban</td>\n",
              "      <td>Fine no high winds</td>\n",
              "      <td>10.0</td>\n",
              "      <td>85.0</td>\n",
              "      <td>Skidded</td>\n",
              "      <td>Kerb</td>\n",
              "      <td>None</td>\n",
              "      <td>5</td>\n",
              "      <td>Slight</td>\n",
              "    </tr>\n",
              "    <tr>\n",
              "      <th>4</th>\n",
              "      <td>Tuesday</td>\n",
              "      <td>Daylight</td>\n",
              "      <td>1</td>\n",
              "      <td>2</td>\n",
              "      <td>Wet or damp</td>\n",
              "      <td>Single carriageway</td>\n",
              "      <td>30.0</td>\n",
              "      <td>Urban</td>\n",
              "      <td>Raining no high winds</td>\n",
              "      <td>1.0</td>\n",
              "      <td>2976.0</td>\n",
              "      <td>None</td>\n",
              "      <td>None</td>\n",
              "      <td>None</td>\n",
              "      <td>3</td>\n",
              "      <td>Slight</td>\n",
              "    </tr>\n",
              "  </tbody>\n",
              "</table>\n",
              "</div>\n",
              "      <button class=\"colab-df-convert\" onclick=\"convertToInteractive('df-649b0022-daef-4ede-8504-47d876978523')\"\n",
              "              title=\"Convert this dataframe to an interactive table.\"\n",
              "              style=\"display:none;\">\n",
              "        \n",
              "  <svg xmlns=\"http://www.w3.org/2000/svg\" height=\"24px\"viewBox=\"0 0 24 24\"\n",
              "       width=\"24px\">\n",
              "    <path d=\"M0 0h24v24H0V0z\" fill=\"none\"/>\n",
              "    <path d=\"M18.56 5.44l.94 2.06.94-2.06 2.06-.94-2.06-.94-.94-2.06-.94 2.06-2.06.94zm-11 1L8.5 8.5l.94-2.06 2.06-.94-2.06-.94L8.5 2.5l-.94 2.06-2.06.94zm10 10l.94 2.06.94-2.06 2.06-.94-2.06-.94-.94-2.06-.94 2.06-2.06.94z\"/><path d=\"M17.41 7.96l-1.37-1.37c-.4-.4-.92-.59-1.43-.59-.52 0-1.04.2-1.43.59L10.3 9.45l-7.72 7.72c-.78.78-.78 2.05 0 2.83L4 21.41c.39.39.9.59 1.41.59.51 0 1.02-.2 1.41-.59l7.78-7.78 2.81-2.81c.8-.78.8-2.07 0-2.86zM5.41 20L4 18.59l7.72-7.72 1.47 1.35L5.41 20z\"/>\n",
              "  </svg>\n",
              "      </button>\n",
              "      \n",
              "  <style>\n",
              "    .colab-df-container {\n",
              "      display:flex;\n",
              "      flex-wrap:wrap;\n",
              "      gap: 12px;\n",
              "    }\n",
              "\n",
              "    .colab-df-convert {\n",
              "      background-color: #E8F0FE;\n",
              "      border: none;\n",
              "      border-radius: 50%;\n",
              "      cursor: pointer;\n",
              "      display: none;\n",
              "      fill: #1967D2;\n",
              "      height: 32px;\n",
              "      padding: 0 0 0 0;\n",
              "      width: 32px;\n",
              "    }\n",
              "\n",
              "    .colab-df-convert:hover {\n",
              "      background-color: #E2EBFA;\n",
              "      box-shadow: 0px 1px 2px rgba(60, 64, 67, 0.3), 0px 1px 3px 1px rgba(60, 64, 67, 0.15);\n",
              "      fill: #174EA6;\n",
              "    }\n",
              "\n",
              "    [theme=dark] .colab-df-convert {\n",
              "      background-color: #3B4455;\n",
              "      fill: #D2E3FC;\n",
              "    }\n",
              "\n",
              "    [theme=dark] .colab-df-convert:hover {\n",
              "      background-color: #434B5C;\n",
              "      box-shadow: 0px 1px 3px 1px rgba(0, 0, 0, 0.15);\n",
              "      filter: drop-shadow(0px 1px 2px rgba(0, 0, 0, 0.3));\n",
              "      fill: #FFFFFF;\n",
              "    }\n",
              "  </style>\n",
              "\n",
              "      <script>\n",
              "        const buttonEl =\n",
              "          document.querySelector('#df-649b0022-daef-4ede-8504-47d876978523 button.colab-df-convert');\n",
              "        buttonEl.style.display =\n",
              "          google.colab.kernel.accessAllowed ? 'block' : 'none';\n",
              "\n",
              "        async function convertToInteractive(key) {\n",
              "          const element = document.querySelector('#df-649b0022-daef-4ede-8504-47d876978523');\n",
              "          const dataTable =\n",
              "            await google.colab.kernel.invokeFunction('convertToInteractive',\n",
              "                                                     [key], {});\n",
              "          if (!dataTable) return;\n",
              "\n",
              "          const docLinkHtml = 'Like what you see? Visit the ' +\n",
              "            '<a target=\"_blank\" href=https://colab.research.google.com/notebooks/data_table.ipynb>data table notebook</a>'\n",
              "            + ' to learn more about interactive tables.';\n",
              "          element.innerHTML = '';\n",
              "          dataTable['output_type'] = 'display_data';\n",
              "          await google.colab.output.renderOutput(dataTable, element);\n",
              "          const docLink = document.createElement('div');\n",
              "          docLink.innerHTML = docLinkHtml;\n",
              "          element.appendChild(docLink);\n",
              "        }\n",
              "      </script>\n",
              "    </div>\n",
              "  </div>\n",
              "  "
            ]
          },
          "metadata": {},
          "execution_count": 38
        }
      ]
    },
    {
      "cell_type": "code",
      "source": [
        "smote.info()"
      ],
      "metadata": {
        "id": "HaukDfqT135y",
        "colab": {
          "base_uri": "https://localhost:8080/"
        },
        "outputId": "66a65bed-6d7b-4d91-9a78-aab89e15bcf1"
      },
      "execution_count": null,
      "outputs": [
        {
          "output_type": "stream",
          "name": "stdout",
          "text": [
            "<class 'pandas.core.frame.DataFrame'>\n",
            "RangeIndex: 4105335 entries, 0 to 4105334\n",
            "Data columns (total 16 columns):\n",
            " #   Column             Dtype   \n",
            "---  ------             -----   \n",
            " 0   0                  float64 \n",
            " 1   1                  float64 \n",
            " 2   2                  float64 \n",
            " 3   3                  float64 \n",
            " 4   4                  float64 \n",
            " 5   5                  float64 \n",
            " 6   6                  float64 \n",
            " 7   7                  float64 \n",
            " 8   8                  float64 \n",
            " 9   9                  float64 \n",
            " 10  10                 float64 \n",
            " 11  11                 float64 \n",
            " 12  12                 float64 \n",
            " 13  13                 float64 \n",
            " 14  14                 float64 \n",
            " 15  Accident_Severity  category\n",
            "dtypes: category(1), float64(15)\n",
            "memory usage: 473.7 MB\n"
          ]
        }
      ]
    },
    {
      "cell_type": "code",
      "source": [
        "y_resampled.shape"
      ],
      "metadata": {
        "colab": {
          "base_uri": "https://localhost:8080/"
        },
        "id": "2qUCQQU5-AUM",
        "outputId": "40b29daa-171a-4601-fd4d-4eb343bee341"
      },
      "execution_count": null,
      "outputs": [
        {
          "output_type": "execute_result",
          "data": {
            "text/plain": [
              "(4105335, 1)"
            ]
          },
          "metadata": {},
          "execution_count": 40
        }
      ]
    },
    {
      "cell_type": "code",
      "source": [
        "X_resampled.shape"
      ],
      "metadata": {
        "colab": {
          "base_uri": "https://localhost:8080/"
        },
        "id": "1SS0WsBdB4Qi",
        "outputId": "ee1098cd-a106-4d96-e228-9920a1d907c1"
      },
      "execution_count": null,
      "outputs": [
        {
          "output_type": "execute_result",
          "data": {
            "text/plain": [
              "(4105335, 15)"
            ]
          },
          "metadata": {},
          "execution_count": 41
        }
      ]
    },
    {
      "cell_type": "code",
      "source": [
        "import numpy as np \n",
        "import matplotlib.pyplot as plt \n",
        "  \n",
        "X = ['Group A','Group B','Group C','Group D']\n",
        "Ygirls = [10,20,20,40]\n",
        "Zboys = [20,30,25,30]\n",
        "  \n",
        "X_axis = np.arange(len(X))\n",
        "  \n",
        "plt.bar(X_axis - 0.2, Ygirls, 0.4, label = 'Girls')\n",
        "plt.bar(X_axis + 0.2, Zboys, 0.4, label = 'Boys')\n",
        "  \n",
        "plt.xticks(X_axis, X)\n",
        "plt.xlabel(\"Groups\")\n",
        "plt.ylabel(\"Number of Students\")\n",
        "plt.title(\"Number of Students in each group\")\n",
        "plt.legend()\n",
        "plt.show()"
      ],
      "metadata": {
        "id": "eic5t5bVB6sJ"
      },
      "execution_count": null,
      "outputs": []
    }
  ]
}